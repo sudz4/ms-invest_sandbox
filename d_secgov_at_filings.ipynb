{
 "cells": [
  {
   "cell_type": "code",
   "execution_count": 12,
   "metadata": {},
   "outputs": [
    {
     "data": {
      "text/plain": [
       "'\\n\\n\\n'"
      ]
     },
     "execution_count": 12,
     "metadata": {},
     "output_type": "execute_result"
    }
   ],
   "source": [
    "\"\"\"\n",
    "\n",
    "\n",
    "\"\"\""
   ]
  },
  {
   "cell_type": "code",
   "execution_count": 1,
   "metadata": {},
   "outputs": [],
   "source": [
    "import pandas as pd\n",
    "# pd.set_option('display.max_columns', None)\n",
    "# pd.set_option('display.max_rows', None)\n",
    "# pd.set_option('display.width', None)\n",
    "# pd.set_option('display.max_colwidth', None)\n"
   ]
  },
  {
   "cell_type": "code",
   "execution_count": 3,
   "metadata": {},
   "outputs": [
    {
     "data": {
      "text/html": [
       "<pre style=\"white-space:pre;overflow-x:auto;line-height:normal;font-family:Menlo,'DejaVu Sans Mono',consolas,'Courier New',monospace\"><span style=\"color: #7fbfbf; text-decoration-color: #7fbfbf\">[13:35:32] </span><span style=\"color: #000080; text-decoration-color: #000080\">INFO    </span> Identity of the Edgar REST client set to <span style=\"font-weight: bold\">[</span>Matt Sutherland matt@sanspeursystems.com<span style=\"font-weight: bold\">]</span> <a href=\"file:///Users/sudz4/Desktop/ms-invest_local/ms-invest_sandbox/ms_venv/lib/python3.11/site-packages/edgar/core.py\" target=\"_blank\"><span style=\"color: #7f7f7f; text-decoration-color: #7f7f7f\">core.py</span></a><span style=\"color: #7f7f7f; text-decoration-color: #7f7f7f\">:</span><a href=\"file:///Users/sudz4/Desktop/ms-invest_local/ms-invest_sandbox/ms_venv/lib/python3.11/site-packages/edgar/core.py#165\" target=\"_blank\"><span style=\"color: #7f7f7f; text-decoration-color: #7f7f7f\">165</span></a>\n",
       "</pre>\n"
      ],
      "text/plain": [
       "\u001b[2;36m[13:35:32]\u001b[0m\u001b[2;36m \u001b[0m\u001b[34mINFO    \u001b[0m Identity of the Edgar REST client set to \u001b[1m[\u001b[0mMatt Sutherland matt@sanspeursystems.com\u001b[1m]\u001b[0m \u001b]8;id=738486;file:///Users/sudz4/Desktop/ms-invest_local/ms-invest_sandbox/ms_venv/lib/python3.11/site-packages/edgar/core.py\u001b\\\u001b[2mcore.py\u001b[0m\u001b]8;;\u001b\\\u001b[2m:\u001b[0m\u001b]8;id=718015;file:///Users/sudz4/Desktop/ms-invest_local/ms-invest_sandbox/ms_venv/lib/python3.11/site-packages/edgar/core.py#165\u001b\\\u001b[2m165\u001b[0m\u001b]8;;\u001b\\\n"
      ]
     },
     "metadata": {},
     "output_type": "display_data"
    }
   ],
   "source": [
    "from edgar import *\n",
    "# Set your identity for SEC\n",
    "set_identity(\"Matt Sutherland matt@sanspeursystems.com\")"
   ]
  },
  {
   "cell_type": "code",
   "execution_count": null,
   "metadata": {},
   "outputs": [],
   "source": [
    "dev_ticker_list = ['SOFI', 'ROIC', 'ADMA']\n",
    "c = Company(dev_ticker_list[0])"
   ]
  },
  {
   "cell_type": "code",
   "execution_count": null,
   "metadata": {},
   "outputs": [],
   "source": [
    "# main XML/XBRL available from edgartools currently\n",
    "## there are other filings i think required, and growing for XBRL tagging"
   ]
  },
  {
   "cell_type": "code",
   "execution_count": 8,
   "metadata": {},
   "outputs": [],
   "source": [
    "# # view ALL most recent filings by date\n",
    "# get_filings()\n",
    "# get_filings(form=['10-K', '10-Q'], year=2024)"
   ]
  },
  {
   "cell_type": "code",
   "execution_count": null,
   "metadata": {},
   "outputs": [],
   "source": [
    "# sample tickers\n",
    "tickers = ['SOFI', 'ROIC']\n"
   ]
  },
  {
   "cell_type": "code",
   "execution_count": 4,
   "metadata": {},
   "outputs": [],
   "source": [
    "c = Company(\"AAPL\")\n",
    "# Get the latest 10-Q filing\n",
    "\n",
    "filing = c.latest(\"10-Q\")\n",
    "\n",
    "# Convert to a data object, in this case a TenQ object\n",
    "tenq = filing.obj()\n",
    "\n",
    "# Get the financials\n",
    "financials = tenq.financials"
   ]
  },
  {
   "cell_type": "code",
   "execution_count": 5,
   "metadata": {},
   "outputs": [
    {
     "data": {
      "text/html": [
       "<pre style=\"white-space:pre;overflow-x:auto;line-height:normal;font-family:Menlo,'DejaVu Sans Mono',consolas,'Courier New',monospace\"></pre>\n"
      ],
      "text/plain": []
     },
     "metadata": {},
     "output_type": "display_data"
    },
    {
     "name": "stdout",
     "output_type": "stream",
     "text": [
      "                \u001b[1;38;5;39mApple Inc.\u001b[0m Financials                \n",
      "╭───┬───────────────────────────────────────────────╮\n",
      "│ 1 │ \u001b[1mCover Page                                   \u001b[0m │\n",
      "│ 2 │ \u001b[1mConsolidated Balance Sheets                  \u001b[0m │\n",
      "│ 3 │ \u001b[1mIncome Statements                            \u001b[0m │\n",
      "│ 4 │ \u001b[1mConsolidated Statement of Cash Flows         \u001b[0m │\n",
      "│ 5 │ \u001b[1mConsolidated Statement of Shareholders Equity\u001b[0m │\n",
      "│ 6 │ \u001b[1mComprehensive Income Statement               \u001b[0m │\n",
      "╰───┴───────────────────────────────────────────────╯\n",
      "             \u001b[38;5;249mPeriod ending \u001b[0m\u001b[1mJune 29, 2024\u001b[0m             \n",
      "\n"
     ]
    }
   ],
   "source": [
    "print(financials)"
   ]
  }
 ],
 "metadata": {
  "kernelspec": {
   "display_name": "ms_venv",
   "language": "python",
   "name": "python3"
  },
  "language_info": {
   "codemirror_mode": {
    "name": "ipython",
    "version": 3
   },
   "file_extension": ".py",
   "mimetype": "text/x-python",
   "name": "python",
   "nbconvert_exporter": "python",
   "pygments_lexer": "ipython3",
   "version": "3.11.1"
  }
 },
 "nbformat": 4,
 "nbformat_minor": 2
}
