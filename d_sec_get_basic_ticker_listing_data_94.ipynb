{
 "cells": [
  {
   "cell_type": "markdown",
   "metadata": {},
   "source": [
    "|Purpose/Summary|\n",
    "|-|\n",
    "|basic ticker symbol, cik, and company name data, for all SEC companies that filed with the SEC since 1994.|"
   ]
  },
  {
   "cell_type": "code",
   "execution_count": 22,
   "metadata": {},
   "outputs": [],
   "source": [
    "import requests\n",
    "import pandas as pd\n",
    "import json"
   ]
  },
  {
   "cell_type": "code",
   "execution_count": 23,
   "metadata": {},
   "outputs": [],
   "source": [
    "# get \"all-time\" basic stock ticker data from SEC server endpoint\n",
    "def get_basic_ticker_listing_data() -> pd.DataFrame:\n",
    "    headers = {\n",
    "        'User-Agent': 'ServiceNow fred.luddy@servicenow.com', \n",
    "        'Accept': 'application/json',\n",
    "        'Host': 'www.sec.gov'\n",
    "    }\n",
    "\n",
    "    try:\n",
    "        response = requests.get(\n",
    "            'https://www.sec.gov/files/company_tickers.json',\n",
    "            headers=headers\n",
    "        )\n",
    "        \n",
    "        if response.status_code == 403:\n",
    "            raise Exception(\"SEC requires a proper User-Agent. \\nPlease modify the User-Agent header with your company/contact information.\")\n",
    "        \n",
    "        response.raise_for_status()\n",
    "\n",
    "        # print(json.dumps(response.json(), indent=4))\n",
    "        \n",
    "        df = pd.DataFrame.from_dict(response.json(), orient='index')\n",
    "        df['cik_str'] = df['cik_str'].astype(str).str.zfill(10)\n",
    "        return df\n",
    "        \n",
    "    except requests.exceptions.RequestException as e:\n",
    "        raise Exception(f\"Error accessing SEC API: {str(e)}\")"
   ]
  },
  {
   "cell_type": "code",
   "execution_count": 24,
   "metadata": {},
   "outputs": [],
   "source": [
    "basic_ticker_listing_df = get_basic_ticker_listing_data()"
   ]
  },
  {
   "cell_type": "code",
   "execution_count": 25,
   "metadata": {},
   "outputs": [
    {
     "name": "stdout",
     "output_type": "stream",
     "text": [
      "9998\n",
      "Index(['cik_str', 'ticker', 'title'], dtype='object')\n",
      "      cik_str ticker           title\n",
      "0  0001045810   NVDA     NVIDIA CORP\n",
      "1  0000320193   AAPL      Apple Inc.\n",
      "2  0000789019   MSFT  MICROSOFT CORP\n"
     ]
    }
   ],
   "source": [
    "# display(sec_all_tickers_df)\n",
    "print(len(basic_ticker_listing_df))\n",
    "print(basic_ticker_listing_df.columns)\n",
    "print(basic_ticker_listing_df.head(3))"
   ]
  },
  {
   "cell_type": "code",
   "execution_count": 26,
   "metadata": {},
   "outputs": [],
   "source": [
    "# save to .csv (ready for data pipeline)\n",
    "basic_ticker_listing_df.to_csv('DATA_PIPELINE_READY/basic_ticker_listing_data_94.csv', index=False)"
   ]
  }
 ],
 "metadata": {
  "kernelspec": {
   "display_name": "ms_venv",
   "language": "python",
   "name": "python3"
  },
  "language_info": {
   "codemirror_mode": {
    "name": "ipython",
    "version": 3
   },
   "file_extension": ".py",
   "mimetype": "text/x-python",
   "name": "python",
   "nbconvert_exporter": "python",
   "pygments_lexer": "ipython3",
   "version": "3.11.1"
  }
 },
 "nbformat": 4,
 "nbformat_minor": 2
}
