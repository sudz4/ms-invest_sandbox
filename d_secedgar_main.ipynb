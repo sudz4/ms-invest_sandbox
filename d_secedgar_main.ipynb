{
 "cells": [
  {
   "cell_type": "markdown",
   "metadata": {},
   "source": [
    "d_secedgar_main.ipynb\n"
   ]
  },
  {
   "cell_type": "code",
   "execution_count": 33,
   "metadata": {},
   "outputs": [],
   "source": [
    "import pandas as pd\n",
    "# max all rows col and width etc\n",
    "pd.set_option('display.max_columns', None)\n",
    "pd.set_option('display.max_rows', None)\n",
    "pd.set_option('display.width', None)\n",
    "pd.set_option('display.max_colwidth', None)\n",
    "import numpy as np\n",
    "import os"
   ]
  },
  {
   "cell_type": "code",
   "execution_count": null,
   "metadata": {},
   "outputs": [
    {
     "data": {
      "text/html": [
       "<pre style=\"white-space:pre;overflow-x:auto;line-height:normal;font-family:Menlo,'DejaVu Sans Mono',consolas,'Courier New',monospace\"><span style=\"color: #7fbfbf; text-decoration-color: #7fbfbf\">[09:07:35] </span><span style=\"color: #000080; text-decoration-color: #000080\">INFO    </span> Identity of the Edgar REST client set to <span style=\"font-weight: bold\">[</span>Matt Sutherland matt@sanspeursystems.com<span style=\"font-weight: bold\">]</span> <a href=\"file:///Users/sudz4/Desktop/ms-invest_local/ms-invest_sandbox/ms_venv/lib/python3.11/site-packages/edgar/core.py\" target=\"_blank\"><span style=\"color: #7f7f7f; text-decoration-color: #7f7f7f\">core.py</span></a><span style=\"color: #7f7f7f; text-decoration-color: #7f7f7f\">:</span><a href=\"file:///Users/sudz4/Desktop/ms-invest_local/ms-invest_sandbox/ms_venv/lib/python3.11/site-packages/edgar/core.py#165\" target=\"_blank\"><span style=\"color: #7f7f7f; text-decoration-color: #7f7f7f\">165</span></a>\n",
       "</pre>\n"
      ],
      "text/plain": [
       "\u001b[2;36m[09:07:35]\u001b[0m\u001b[2;36m \u001b[0m\u001b[34mINFO    \u001b[0m Identity of the Edgar REST client set to \u001b[1m[\u001b[0mMatt Sutherland matt@sanspeursystems.com\u001b[1m]\u001b[0m \u001b]8;id=540431;file:///Users/sudz4/Desktop/ms-invest_local/ms-invest_sandbox/ms_venv/lib/python3.11/site-packages/edgar/core.py\u001b\\\u001b[2mcore.py\u001b[0m\u001b]8;;\u001b\\\u001b[2m:\u001b[0m\u001b]8;id=343316;file:///Users/sudz4/Desktop/ms-invest_local/ms-invest_sandbox/ms_venv/lib/python3.11/site-packages/edgar/core.py#165\u001b\\\u001b[2m165\u001b[0m\u001b]8;;\u001b\\\n"
      ]
     },
     "metadata": {},
     "output_type": "display_data"
    }
   ],
   "source": [
    "from edgar import *\n",
    "set_identity(\"Matt Sutherland matt@sanspeursystems.com\")\n",
    "filings = get_filings()"
   ]
  },
  {
   "cell_type": "code",
   "execution_count": 35,
   "metadata": {},
   "outputs": [],
   "source": [
    "## output -> db \n",
    "# base dir path\n",
    "base_temp_output_dir_path = 'temp_output_dir'\n",
    "# create | update the base dir\n",
    "os.makedirs(base_temp_output_dir_path, exist_ok=True)"
   ]
  },
  {
   "cell_type": "code",
   "execution_count": null,
   "metadata": {},
   "outputs": [],
   "source": []
  },
  {
   "cell_type": "code",
   "execution_count": null,
   "metadata": {},
   "outputs": [],
   "source": []
  },
  {
   "cell_type": "code",
   "execution_count": null,
   "metadata": {},
   "outputs": [],
   "source": []
  },
  {
   "cell_type": "code",
   "execution_count": 29,
   "metadata": {},
   "outputs": [
    {
     "name": "stdout",
     "output_type": "stream",
     "text": [
      "Filing(company='Apple Inc.', cik=320193, form='10-Q', filing_date='2024-08-02', accession_no='0000320193-24-000081')\n"
     ]
    }
   ],
   "source": [
    "c = Company(\"AAPL\")\n",
    "# Get the latest 10-Q filing\n",
    "\n",
    "filing = c.latest(\"10-Q\")\n",
    "\n",
    "print(filing)\n",
    "\n",
    "# # Convert to a data object, in this case a TenQ object\n",
    "# tenq = filing.obj()\n",
    "\n",
    "# # Get the financials\n",
    "# financials = tenq.financials"
   ]
  },
  {
   "cell_type": "code",
   "execution_count": null,
   "metadata": {},
   "outputs": [],
   "source": [
    "filings = get_filings(form=['10-K', '10-Q'], year=2020)\n",
    "filing = filings[0]"
   ]
  }
 ],
 "metadata": {
  "kernelspec": {
   "display_name": "ms_venv",
   "language": "python",
   "name": "python3"
  },
  "language_info": {
   "codemirror_mode": {
    "name": "ipython",
    "version": 3
   },
   "file_extension": ".py",
   "mimetype": "text/x-python",
   "name": "python",
   "nbconvert_exporter": "python",
   "pygments_lexer": "ipython3",
   "version": "3.11.1"
  }
 },
 "nbformat": 4,
 "nbformat_minor": 2
}
