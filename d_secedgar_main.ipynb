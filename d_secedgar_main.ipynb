{
 "cells": [
  {
   "cell_type": "markdown",
   "metadata": {},
   "source": [
    "d_secedgar_main.ipynb\n"
   ]
  },
  {
   "cell_type": "code",
   "execution_count": 72,
   "metadata": {},
   "outputs": [],
   "source": [
    "import pandas as pd\n",
    "# max all rows col and width etc\n",
    "pd.set_option('display.max_columns', None)\n",
    "pd.set_option('display.max_rows', None)\n",
    "pd.set_option('display.width', None)\n",
    "pd.set_option('display.max_colwidth', None)\n",
    "import numpy as np\n",
    "import os\n",
    "from datetime import datetime\n"
   ]
  },
  {
   "cell_type": "code",
   "execution_count": 73,
   "metadata": {},
   "outputs": [
    {
     "data": {
      "text/plain": [
       "True"
      ]
     },
     "execution_count": 73,
     "metadata": {},
     "output_type": "execute_result"
    }
   ],
   "source": [
    "from dotenv import load_dotenv\n",
    "load_dotenv()"
   ]
  },
  {
   "cell_type": "code",
   "execution_count": 74,
   "metadata": {},
   "outputs": [
    {
     "data": {
      "text/html": [
       "<pre style=\"white-space:pre;overflow-x:auto;line-height:normal;font-family:Menlo,'DejaVu Sans Mono',consolas,'Courier New',monospace\"><span style=\"color: #7fbfbf; text-decoration-color: #7fbfbf\">[09:59:57] </span><span style=\"color: #000080; text-decoration-color: #000080\">INFO    </span> Identity of the Edgar REST client set to <span style=\"font-weight: bold\">[</span>Matt Sutherland matt@sanspeursystems.com<span style=\"font-weight: bold\">]</span> <a href=\"file:///Users/sudz4/Desktop/ms-invest_local/ms-invest_sandbox/ms_venv/lib/python3.11/site-packages/edgar/core.py\" target=\"_blank\"><span style=\"color: #7f7f7f; text-decoration-color: #7f7f7f\">core.py</span></a><span style=\"color: #7f7f7f; text-decoration-color: #7f7f7f\">:</span><a href=\"file:///Users/sudz4/Desktop/ms-invest_local/ms-invest_sandbox/ms_venv/lib/python3.11/site-packages/edgar/core.py#165\" target=\"_blank\"><span style=\"color: #7f7f7f; text-decoration-color: #7f7f7f\">165</span></a>\n",
       "</pre>\n"
      ],
      "text/plain": [
       "\u001b[2;36m[09:59:57]\u001b[0m\u001b[2;36m \u001b[0m\u001b[34mINFO    \u001b[0m Identity of the Edgar REST client set to \u001b[1m[\u001b[0mMatt Sutherland matt@sanspeursystems.com\u001b[1m]\u001b[0m \u001b]8;id=268763;file:///Users/sudz4/Desktop/ms-invest_local/ms-invest_sandbox/ms_venv/lib/python3.11/site-packages/edgar/core.py\u001b\\\u001b[2mcore.py\u001b[0m\u001b]8;;\u001b\\\u001b[2m:\u001b[0m\u001b]8;id=150016;file:///Users/sudz4/Desktop/ms-invest_local/ms-invest_sandbox/ms_venv/lib/python3.11/site-packages/edgar/core.py#165\u001b\\\u001b[2m165\u001b[0m\u001b]8;;\u001b\\\n"
      ]
     },
     "metadata": {},
     "output_type": "display_data"
    }
   ],
   "source": [
    "####\n",
    "from edgar import *\n",
    "####\n",
    "set_identity(\"Matt Sutherland matt@sanspeursystems.com\")\n",
    "filings = get_filings()"
   ]
  },
  {
   "cell_type": "code",
   "execution_count": 75,
   "metadata": {},
   "outputs": [],
   "source": [
    "## output -> db \n",
    "# base dir path\n",
    "base_temp_output_dir_path = 'temp_dir_all_output'\n",
    "# create | update the base dir\n",
    "os.makedirs(base_temp_output_dir_path, exist_ok=True)"
   ]
  },
  {
   "cell_type": "code",
   "execution_count": null,
   "metadata": {},
   "outputs": [
    {
     "name": "stdout",
     "output_type": "stream",
     "text": [
      "Company(SoFi Technologies, Inc. [1818874] SOFI, Finance Services)\n",
      "Filing(company='SoFi Technologies, Inc.', cik=1818874, form='10-K', filing_date='2024-02-27', accession_no='0001818874-24-000026')\n"
     ]
    }
   ],
   "source": [
    "# stock (ticker) list \n",
    "tickers_list = ['SOFI', \"CRWD\"]\n",
    "ticker = tickers_list[0]\n",
    "\n",
    "# SEC forms (short list)\n",
    "sec_forms = [\n",
    "    '10-K', # annual report\n",
    "    '10-Q', # quarterly report\n",
    "    'DEF 14A', # proxy statement\n",
    "    '8-K' # current report\n",
    "]\n",
    "# select form(s)\n",
    "selected_sec_forms = sec_forms[0]\n",
    "\n",
    "####----<\n",
    "company = Company(ticker)\n",
    "print(company)\n",
    "filing = company.get_filings(form=selected_sec_forms).latest()\n",
    "\n",
    "\n",
    "print(filing)\n",
    "# filing.open() # open document in browser\n"
   ]
  },
  {
   "cell_type": "code",
   "execution_count": null,
   "metadata": {},
   "outputs": [],
   "source": []
  },
  {
   "cell_type": "markdown",
   "metadata": {},
   "source": [
    "# DEV NOTES"
   ]
  },
  {
   "cell_type": "code",
   "execution_count": null,
   "metadata": {},
   "outputs": [],
   "source": []
  },
  {
   "cell_type": "code",
   "execution_count": null,
   "metadata": {},
   "outputs": [],
   "source": []
  },
  {
   "cell_type": "code",
   "execution_count": null,
   "metadata": {},
   "outputs": [],
   "source": [
    "# # define filing START year string\n",
    "# filing_start_year = '2023'\n",
    "# # define filing START quarter\n",
    "# filing_start_quarter = 'Q1'\n",
    "# # current yr\n",
    "# current_filing_year = datetime.now().year\n",
    "# # current quarter\n",
    "# current_filing_quarter = 'Q' + str((datetime.now().month - 1) // 3 + 1)\n",
    "\n",
    "# print(f'{filing_start_year} {filing_start_quarter} ----> {current_filing_year} {current_filing_quarter}\\n')\n",
    "# print(datetime.now())"
   ]
  },
  {
   "cell_type": "code",
   "execution_count": null,
   "metadata": {},
   "outputs": [],
   "source": []
  },
  {
   "cell_type": "code",
   "execution_count": null,
   "metadata": {},
   "outputs": [],
   "source": [
    "# # get filing(s)\n",
    "# company = get_filings(ticker, \n",
    "#                       sec_form, \n",
    "#                       filing_start_year, \n",
    "#                       filing_start_quarter, \n",
    "#                       current_filing_year, \n",
    "#                       current_filing_quarter)"
   ]
  },
  {
   "cell_type": "code",
   "execution_count": null,
   "metadata": {},
   "outputs": [],
   "source": []
  },
  {
   "cell_type": "code",
   "execution_count": null,
   "metadata": {},
   "outputs": [],
   "source": [
    "# c = Company(\"AAPL\")\n",
    "# # Get the latest 10-Q filing\n",
    "\n",
    "# filing = c.latest(\"10-Q\")\n",
    "\n",
    "# print(filing)\n",
    "\n",
    "# ####DEVELOPMENT\n",
    "\n",
    "# filings = get_filings(form=['10-K', '10-Q'], year=2020)\n",
    "# filing = filings[0]"
   ]
  }
 ],
 "metadata": {
  "kernelspec": {
   "display_name": "ms_venv",
   "language": "python",
   "name": "python3"
  },
  "language_info": {
   "codemirror_mode": {
    "name": "ipython",
    "version": 3
   },
   "file_extension": ".py",
   "mimetype": "text/x-python",
   "name": "python",
   "nbconvert_exporter": "python",
   "pygments_lexer": "ipython3",
   "version": "3.11.1"
  }
 },
 "nbformat": 4,
 "nbformat_minor": 2
}
