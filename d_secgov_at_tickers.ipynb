{
 "cells": [
  {
   "cell_type": "markdown",
   "metadata": {},
   "source": [
    "u_secgov_at_tickers.ipynb\n",
    "\n",
    "- retrieves basic ticker data, three (3) vars; 'cik_str', 'ticker', 'title',\n",
    "- for any company (stock) ticker ever registered with the SEC, both active and inactive.\n",
    "- https://www.sec.gov/search-filings/edgar-application-programming-interfaces"
   ]
  },
  {
   "cell_type": "code",
   "execution_count": 5,
   "metadata": {},
   "outputs": [],
   "source": [
    "import requests\n",
    "import pandas as pd"
   ]
  },
  {
   "cell_type": "code",
   "execution_count": null,
   "metadata": {},
   "outputs": [],
   "source": [
    "# get \"all-time\" basic stock ticker data from SEC server endpoint\n",
    "def get_sec_tickers() -> pd.DataFrame:\n",
    "    \"\"\"\n",
    "    Retrieve company tickers from SEC endpoint and return as DataFrame\n",
    "    Returns DataFrame with columns: cik_str, ticker, title\n",
    "    \"\"\"\n",
    "    headers = {\n",
    "        'User-Agent': 'ServiceNow fred.luddy@servicenow.com', \n",
    "        'Accept': 'application/json',\n",
    "        'Host': 'www.sec.gov'\n",
    "    }\n",
    "    \n",
    "    try:\n",
    "        response = requests.get(\n",
    "            'https://www.sec.gov/files/company_tickers.json',\n",
    "            headers=headers\n",
    "        )\n",
    "        \n",
    "        if response.status_code == 403:\n",
    "            raise Exception(\"SEC requires a proper User-Agent. \\nPlease modify the User-Agent header with your company/contact information.\")\n",
    "        \n",
    "        response.raise_for_status()\n",
    "        \n",
    "        df = pd.DataFrame.from_dict(response.json(), orient='index')\n",
    "        df['cik_str'] = df['cik_str'].astype(str).str.zfill(10)\n",
    "        return df\n",
    "        \n",
    "    except requests.exceptions.RequestException as e:\n",
    "        raise Exception(f\"Error accessing SEC API: {str(e)}\")"
   ]
  },
  {
   "cell_type": "code",
   "execution_count": 7,
   "metadata": {},
   "outputs": [
    {
     "name": "stdout",
     "output_type": "stream",
     "text": [
      "Index(['cik_str', 'ticker', 'title'], dtype='object')\n",
      "9998\n"
     ]
    }
   ],
   "source": [
    "sec_all_tickers_df = get_sec_tickers()\n",
    "\n",
    "print(sec_all_tickers_df.columns)\n",
    "print(len(sec_all_tickers_df))"
   ]
  },
  {
   "cell_type": "code",
   "execution_count": null,
   "metadata": {},
   "outputs": [],
   "source": []
  }
 ],
 "metadata": {
  "kernelspec": {
   "display_name": "ms_venv",
   "language": "python",
   "name": "python3"
  },
  "language_info": {
   "codemirror_mode": {
    "name": "ipython",
    "version": 3
   },
   "file_extension": ".py",
   "mimetype": "text/x-python",
   "name": "python",
   "nbconvert_exporter": "python",
   "pygments_lexer": "ipython3",
   "version": "3.11.1"
  }
 },
 "nbformat": 4,
 "nbformat_minor": 2
}
