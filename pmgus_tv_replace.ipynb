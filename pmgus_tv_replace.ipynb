{
 "cells": [
  {
   "cell_type": "markdown",
   "metadata": {},
   "source": [
    "pmgus_tv_replace.ipynb"
   ]
  },
  {
   "cell_type": "code",
   "execution_count": 1,
   "metadata": {},
   "outputs": [],
   "source": [
    "from typing import Dict, List\n",
    "import pandas as pd\n",
    "from datetime import datetime, timedelta\n",
    "from polygon import RESTClient\n",
    "import numpy as np\n",
    "import asyncio\n",
    "from polygon.rest import models\n",
    "# For Jupyter notebook execution\n",
    "import nest_asyncio\n",
    "nest_asyncio.apply()"
   ]
  },
  {
   "cell_type": "code",
   "execution_count": 2,
   "metadata": {},
   "outputs": [
    {
     "data": {
      "text/plain": [
       "True"
      ]
     },
     "execution_count": 2,
     "metadata": {},
     "output_type": "execute_result"
    }
   ],
   "source": [
    "import dotenv\n",
    "import os\n",
    "dotenv.load_dotenv()\n"
   ]
  },
  {
   "cell_type": "code",
   "execution_count": 3,
   "metadata": {},
   "outputs": [],
   "source": [
    "api_key = os.getenv('polygonioKEY')\n",
    "client = RESTClient(api_key=api_key)"
   ]
  },
  {
   "cell_type": "code",
   "execution_count": 8,
   "metadata": {},
   "outputs": [
    {
     "name": "stdout",
     "output_type": "stream",
     "text": [
      "LastTrade(ticker='AAPL', trf_timestamp=None, sequence_number=6280840, sip_timestamp=1732748879637721814, participant_timestamp=1732748879637381300, conditions=[12, 37], correction=None, id='30525', price=235.08, trf_id=None, size=1, exchange=11, tape=3)\n"
     ]
    }
   ],
   "source": [
    "response = client.get_last_trade(\"AAPL\")\n",
    "print(response)"
   ]
  },
  {
   "cell_type": "code",
   "execution_count": null,
   "metadata": {},
   "outputs": [],
   "source": []
  },
  {
   "cell_type": "code",
   "execution_count": null,
   "metadata": {},
   "outputs": [],
   "source": [
    "# # initialize the REST client for polygon.io\n",
    "# client = RESTClient(api_key=api_key)\n",
    "\n",
    "# # Example function to fetch daily bars\n",
    "# def get_daily_bars(symbol, start_date, end_date):\n",
    "#     \"\"\"\n",
    "#     Fetch daily OHLCV data for a given symbol and date range\n",
    "    \n",
    "#     Parameters:\n",
    "#     symbol (str): Stock ticker symbol\n",
    "#     start_date (str): Start date in format YYYY-MM-DD\n",
    "#     end_date (str): End date in format YYYY-MM-DD\n",
    "    \n",
    "#     Returns:\n",
    "#     pandas.DataFrame: OHLCV data\n",
    "#     \"\"\"\n",
    "#     try:\n",
    "#         bars = client.get_aggs(\n",
    "#             ticker=symbol,\n",
    "#             multiplier=1,\n",
    "#             timespan=\"day\",\n",
    "#             from_=start_date,\n",
    "#             to=end_date\n",
    "#         )\n",
    "        \n",
    "#         # Convert to DataFrame\n",
    "#         df = pd.DataFrame([bar.__dict__ for bar in bars])\n",
    "        \n",
    "#         # Clean up column names\n",
    "#         df = df.rename(columns={\n",
    "#             'o': 'open',\n",
    "#             'h': 'high',\n",
    "#             'l': 'low',\n",
    "#             'c': 'close',\n",
    "#             'v': 'volume',\n",
    "#             't': 'timestamp'\n",
    "#         })\n",
    "        \n",
    "#         # Convert timestamp to datetime\n",
    "#         df['timestamp'] = pd.to_datetime(df['timestamp'], unit='ms')\n",
    "        \n",
    "#         return df\n",
    "        \n",
    "#     except Exception as e:\n",
    "#         print(f\"Error fetching data: {e}\")\n",
    "#         return None\n",
    "    \n",
    "# #### EXECUTE ####\n",
    "# dbars_df = get_daily_bars(\"AAPL\", \"2021-01-01\", \"2021-01-31\")\n",
    "# print(len(dbars_df))\n",
    "# display(dbars_df.head())"
   ]
  },
  {
   "cell_type": "code",
   "execution_count": null,
   "metadata": {},
   "outputs": [],
   "source": []
  },
  {
   "cell_type": "code",
   "execution_count": null,
   "metadata": {},
   "outputs": [
    {
     "name": "stdout",
     "output_type": "stream",
     "text": [
      "19\n"
     ]
    },
    {
     "data": {
      "text/html": [
       "<div>\n",
       "<style scoped>\n",
       "    .dataframe tbody tr th:only-of-type {\n",
       "        vertical-align: middle;\n",
       "    }\n",
       "\n",
       "    .dataframe tbody tr th {\n",
       "        vertical-align: top;\n",
       "    }\n",
       "\n",
       "    .dataframe thead th {\n",
       "        text-align: right;\n",
       "    }\n",
       "</style>\n",
       "<table border=\"1\" class=\"dataframe\">\n",
       "  <thead>\n",
       "    <tr style=\"text-align: right;\">\n",
       "      <th></th>\n",
       "      <th>open</th>\n",
       "      <th>high</th>\n",
       "      <th>low</th>\n",
       "      <th>close</th>\n",
       "      <th>volume</th>\n",
       "      <th>vwap</th>\n",
       "      <th>timestamp</th>\n",
       "      <th>transactions</th>\n",
       "      <th>otc</th>\n",
       "    </tr>\n",
       "  </thead>\n",
       "  <tbody>\n",
       "    <tr>\n",
       "      <th>0</th>\n",
       "      <td>133.52</td>\n",
       "      <td>133.6116</td>\n",
       "      <td>126.760</td>\n",
       "      <td>129.41</td>\n",
       "      <td>143285672.0</td>\n",
       "      <td>129.7326</td>\n",
       "      <td>2021-01-04 05:00:00</td>\n",
       "      <td>1310217</td>\n",
       "      <td>None</td>\n",
       "    </tr>\n",
       "    <tr>\n",
       "      <th>1</th>\n",
       "      <td>128.89</td>\n",
       "      <td>131.7400</td>\n",
       "      <td>128.430</td>\n",
       "      <td>131.01</td>\n",
       "      <td>97664898.0</td>\n",
       "      <td>130.7179</td>\n",
       "      <td>2021-01-05 05:00:00</td>\n",
       "      <td>707577</td>\n",
       "      <td>None</td>\n",
       "    </tr>\n",
       "    <tr>\n",
       "      <th>2</th>\n",
       "      <td>127.72</td>\n",
       "      <td>131.0499</td>\n",
       "      <td>126.382</td>\n",
       "      <td>126.60</td>\n",
       "      <td>155087970.0</td>\n",
       "      <td>128.3502</td>\n",
       "      <td>2021-01-06 05:00:00</td>\n",
       "      <td>1202574</td>\n",
       "      <td>None</td>\n",
       "    </tr>\n",
       "    <tr>\n",
       "      <th>3</th>\n",
       "      <td>128.36</td>\n",
       "      <td>131.6300</td>\n",
       "      <td>127.860</td>\n",
       "      <td>130.92</td>\n",
       "      <td>109578157.0</td>\n",
       "      <td>130.1539</td>\n",
       "      <td>2021-01-07 05:00:00</td>\n",
       "      <td>718357</td>\n",
       "      <td>None</td>\n",
       "    </tr>\n",
       "    <tr>\n",
       "      <th>4</th>\n",
       "      <td>132.43</td>\n",
       "      <td>132.6300</td>\n",
       "      <td>130.230</td>\n",
       "      <td>132.05</td>\n",
       "      <td>105158245.0</td>\n",
       "      <td>131.5657</td>\n",
       "      <td>2021-01-08 05:00:00</td>\n",
       "      <td>800069</td>\n",
       "      <td>None</td>\n",
       "    </tr>\n",
       "  </tbody>\n",
       "</table>\n",
       "</div>"
      ],
      "text/plain": [
       "     open      high      low   close       volume      vwap  \\\n",
       "0  133.52  133.6116  126.760  129.41  143285672.0  129.7326   \n",
       "1  128.89  131.7400  128.430  131.01   97664898.0  130.7179   \n",
       "2  127.72  131.0499  126.382  126.60  155087970.0  128.3502   \n",
       "3  128.36  131.6300  127.860  130.92  109578157.0  130.1539   \n",
       "4  132.43  132.6300  130.230  132.05  105158245.0  131.5657   \n",
       "\n",
       "            timestamp  transactions   otc  \n",
       "0 2021-01-04 05:00:00       1310217  None  \n",
       "1 2021-01-05 05:00:00        707577  None  \n",
       "2 2021-01-06 05:00:00       1202574  None  \n",
       "3 2021-01-07 05:00:00        718357  None  \n",
       "4 2021-01-08 05:00:00        800069  None  "
      ]
     },
     "metadata": {},
     "output_type": "display_data"
    }
   ],
   "source": []
  }
 ],
 "metadata": {
  "kernelspec": {
   "display_name": "ms_venv",
   "language": "python",
   "name": "python3"
  },
  "language_info": {
   "codemirror_mode": {
    "name": "ipython",
    "version": 3
   },
   "file_extension": ".py",
   "mimetype": "text/x-python",
   "name": "python",
   "nbconvert_exporter": "python",
   "pygments_lexer": "ipython3",
   "version": "3.11.1"
  }
 },
 "nbformat": 4,
 "nbformat_minor": 2
}
