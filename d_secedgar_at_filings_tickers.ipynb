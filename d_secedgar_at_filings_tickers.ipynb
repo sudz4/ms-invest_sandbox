{
 "cells": [
  {
   "cell_type": "code",
   "execution_count": 12,
   "metadata": {},
   "outputs": [
    {
     "data": {
      "text/plain": [
       "'\\n\\n\\n'"
      ]
     },
     "execution_count": 12,
     "metadata": {},
     "output_type": "execute_result"
    }
   ],
   "source": [
    "\"\"\"\n",
    "\n",
    "\n",
    "\"\"\""
   ]
  },
  {
   "cell_type": "code",
   "execution_count": 3,
   "metadata": {},
   "outputs": [],
   "source": [
    "import pandas as pd\n",
    "pd.set_option('display.max_columns', None)\n",
    "pd.set_option('display.max_rows', None)\n",
    "pd.set_option('display.width', None)\n",
    "pd.set_option('display.max_colwidth', None)\n"
   ]
  },
  {
   "cell_type": "code",
   "execution_count": 4,
   "metadata": {},
   "outputs": [
    {
     "data": {
      "text/html": [
       "<pre style=\"white-space:pre;overflow-x:auto;line-height:normal;font-family:Menlo,'DejaVu Sans Mono',consolas,'Courier New',monospace\"><span style=\"color: #7fbfbf; text-decoration-color: #7fbfbf\">[12:44:01] </span><span style=\"color: #000080; text-decoration-color: #000080\">INFO    </span> Identity of the Edgar REST client set to <span style=\"font-weight: bold\">[</span>Matt Sutherland matt@sanspeursystems.com<span style=\"font-weight: bold\">]</span> <a href=\"file:///Users/sudz4/Desktop/ms-invest_local/ms-invest_sandbox/ms_venv/lib/python3.11/site-packages/edgar/core.py\" target=\"_blank\"><span style=\"color: #7f7f7f; text-decoration-color: #7f7f7f\">core.py</span></a><span style=\"color: #7f7f7f; text-decoration-color: #7f7f7f\">:</span><a href=\"file:///Users/sudz4/Desktop/ms-invest_local/ms-invest_sandbox/ms_venv/lib/python3.11/site-packages/edgar/core.py#165\" target=\"_blank\"><span style=\"color: #7f7f7f; text-decoration-color: #7f7f7f\">165</span></a>\n",
       "</pre>\n"
      ],
      "text/plain": [
       "\u001b[2;36m[12:44:01]\u001b[0m\u001b[2;36m \u001b[0m\u001b[34mINFO    \u001b[0m Identity of the Edgar REST client set to \u001b[1m[\u001b[0mMatt Sutherland matt@sanspeursystems.com\u001b[1m]\u001b[0m \u001b]8;id=249343;file:///Users/sudz4/Desktop/ms-invest_local/ms-invest_sandbox/ms_venv/lib/python3.11/site-packages/edgar/core.py\u001b\\\u001b[2mcore.py\u001b[0m\u001b]8;;\u001b\\\u001b[2m:\u001b[0m\u001b]8;id=478392;file:///Users/sudz4/Desktop/ms-invest_local/ms-invest_sandbox/ms_venv/lib/python3.11/site-packages/edgar/core.py#165\u001b\\\u001b[2m165\u001b[0m\u001b]8;;\u001b\\\n"
      ]
     },
     "metadata": {},
     "output_type": "display_data"
    }
   ],
   "source": [
    "from edgar import *\n",
    "# Set your identity for SEC\n",
    "set_identity(\"Matt Sutherland matt@sanspeursystems.com\")"
   ]
  },
  {
   "cell_type": "code",
   "execution_count": null,
   "metadata": {},
   "outputs": [],
   "source": []
  },
  {
   "cell_type": "code",
   "execution_count": null,
   "metadata": {},
   "outputs": [],
   "source": []
  },
  {
   "cell_type": "code",
   "execution_count": null,
   "metadata": {},
   "outputs": [
    {
     "name": "stdout",
     "output_type": "stream",
     "text": [
      "\n",
      "Processing SOFI...\n"
     ]
    },
    {
     "data": {
      "text/html": [
       "<pre style=\"white-space:pre;overflow-x:auto;line-height:normal;font-family:Menlo,'DejaVu Sans Mono',consolas,'Courier New',monospace\"></pre>\n"
      ],
      "text/plain": []
     },
     "metadata": {},
     "output_type": "display_data"
    },
    {
     "name": "stdout",
     "output_type": "stream",
     "text": [
      "SoFi Technologies, Inc. 1818874 ╭───────────────────────────────── Filings for SoFi Technologies, Inc. [1818874] ─────────────────────────────────╮\n",
      "│                                                                                                                 │\n",
      "│  \u001b[1m \u001b[0m\u001b[1m \u001b[0m\u001b[1m \u001b[0m \u001b[1;38;5;71m \u001b[0m\u001b[1;38;5;71mform\u001b[0m\u001b[1;38;5;71m \u001b[0m \u001b[1;38;5;39m \u001b[0m\u001b[1;38;5;39mfiled     \u001b[0m\u001b[1;38;5;39m \u001b[0m \u001b[1m \u001b[0m\u001b[1maccession_number    \u001b[0m\u001b[1m \u001b[0m \u001b[1m \u001b[0m\u001b[1mxbrl\u001b[0m\u001b[1m \u001b[0m                                                          │\n",
      "│  ─────────────────────────────────────────────────────                                                          │\n",
      "│  \u001b[1m \u001b[0m\u001b[1m0\u001b[0m\u001b[1m \u001b[0m \u001b[1;38;5;71m \u001b[0m\u001b[1;38;5;71m10-K\u001b[0m\u001b[1;38;5;71m \u001b[0m \u001b[1;38;5;39m \u001b[0m\u001b[1;38;5;39m2024-02-27\u001b[0m\u001b[1;38;5;39m \u001b[0m \u001b[1m \u001b[0m\u001b[1m0001818874-24-000026\u001b[0m\u001b[1m \u001b[0m \u001b[1m \u001b[0m\u001b[1m✓   \u001b[0m\u001b[1m \u001b[0m                                                          │\n",
      "│                                                                                                                 │\n",
      "│ Showing 1 filings of 1 total                                                                                    │\n",
      "╰─────────────────────────────────────────────────────────────────────────────────────────────────────────────────╯\n",
      "\n",
      "\n",
      "Filings DataFrame:\n"
     ]
    },
    {
     "data": {
      "text/html": [
       "<div>\n",
       "<style scoped>\n",
       "    .dataframe tbody tr th:only-of-type {\n",
       "        vertical-align: middle;\n",
       "    }\n",
       "\n",
       "    .dataframe tbody tr th {\n",
       "        vertical-align: top;\n",
       "    }\n",
       "\n",
       "    .dataframe thead th {\n",
       "        text-align: right;\n",
       "    }\n",
       "</style>\n",
       "<table border=\"1\" class=\"dataframe\">\n",
       "  <thead>\n",
       "    <tr style=\"text-align: right;\">\n",
       "      <th></th>\n",
       "      <th>accession_number</th>\n",
       "      <th>filing_date</th>\n",
       "      <th>reportDate</th>\n",
       "      <th>acceptanceDateTime</th>\n",
       "      <th>act</th>\n",
       "      <th>form</th>\n",
       "      <th>fileNumber</th>\n",
       "      <th>items</th>\n",
       "      <th>size</th>\n",
       "      <th>isXBRL</th>\n",
       "      <th>isInlineXBRL</th>\n",
       "      <th>primaryDocument</th>\n",
       "      <th>primaryDocDescription</th>\n",
       "    </tr>\n",
       "  </thead>\n",
       "  <tbody>\n",
       "    <tr>\n",
       "      <th>0</th>\n",
       "      <td>0001818874-24-000026</td>\n",
       "      <td>2024-02-27</td>\n",
       "      <td>2023-12-31</td>\n",
       "      <td>2024-02-27T17:14:38.000Z</td>\n",
       "      <td>34</td>\n",
       "      <td>10-K</td>\n",
       "      <td>001-39606</td>\n",
       "      <td></td>\n",
       "      <td>31645046</td>\n",
       "      <td>1</td>\n",
       "      <td>1</td>\n",
       "      <td>sofi-20231231.htm</td>\n",
       "      <td>10-K</td>\n",
       "    </tr>\n",
       "  </tbody>\n",
       "</table>\n",
       "</div>"
      ],
      "text/plain": [
       "       accession_number filing_date  reportDate        acceptanceDateTime act  \\\n",
       "0  0001818874-24-000026  2024-02-27  2023-12-31  2024-02-27T17:14:38.000Z  34   \n",
       "\n",
       "   form fileNumber items      size  isXBRL  isInlineXBRL    primaryDocument  \\\n",
       "0  10-K  001-39606        31645046       1             1  sofi-20231231.htm   \n",
       "\n",
       "  primaryDocDescription  \n",
       "0                  10-K  "
      ]
     },
     "metadata": {},
     "output_type": "display_data"
    },
    {
     "name": "stdout",
     "output_type": "stream",
     "text": [
      "\n",
      "Processing ROIC...\n"
     ]
    },
    {
     "data": {
      "text/html": [
       "<pre style=\"white-space:pre;overflow-x:auto;line-height:normal;font-family:Menlo,'DejaVu Sans Mono',consolas,'Courier New',monospace\"></pre>\n"
      ],
      "text/plain": []
     },
     "metadata": {},
     "output_type": "display_data"
    },
    {
     "name": "stdout",
     "output_type": "stream",
     "text": [
      "RETAIL OPPORTUNITY INVESTMENTS CORP 1407623 ╭─────────────────────────── Filings for RETAIL OPPORTUNITY INVESTMENTS CORP [1407623] ───────────────────────────╮\n",
      "│                                                                                                                 │\n",
      "│  \u001b[1m \u001b[0m\u001b[1m \u001b[0m\u001b[1m \u001b[0m \u001b[1;38;5;71m \u001b[0m\u001b[1;38;5;71mform\u001b[0m\u001b[1;38;5;71m \u001b[0m \u001b[1;38;5;39m \u001b[0m\u001b[1;38;5;39mfiled     \u001b[0m\u001b[1;38;5;39m \u001b[0m \u001b[1m \u001b[0m\u001b[1maccession_number    \u001b[0m\u001b[1m \u001b[0m \u001b[1m \u001b[0m\u001b[1mxbrl\u001b[0m\u001b[1m \u001b[0m                                                          │\n",
      "│  ─────────────────────────────────────────────────────                                                          │\n",
      "│  \u001b[1m \u001b[0m\u001b[1m0\u001b[0m\u001b[1m \u001b[0m \u001b[1;38;5;71m \u001b[0m\u001b[1;38;5;71m10-K\u001b[0m\u001b[1;38;5;71m \u001b[0m \u001b[1;38;5;39m \u001b[0m\u001b[1;38;5;39m2024-02-15\u001b[0m\u001b[1;38;5;39m \u001b[0m \u001b[1m \u001b[0m\u001b[1m0001407623-24-000043\u001b[0m\u001b[1m \u001b[0m \u001b[1m \u001b[0m\u001b[1m✓   \u001b[0m\u001b[1m \u001b[0m                                                          │\n",
      "│                                                                                                                 │\n",
      "│ Showing 1 filings of 1 total                                                                                    │\n",
      "╰─────────────────────────────────────────────────────────────────────────────────────────────────────────────────╯\n",
      "\n",
      "\n",
      "Filings DataFrame:\n"
     ]
    },
    {
     "data": {
      "text/html": [
       "<div>\n",
       "<style scoped>\n",
       "    .dataframe tbody tr th:only-of-type {\n",
       "        vertical-align: middle;\n",
       "    }\n",
       "\n",
       "    .dataframe tbody tr th {\n",
       "        vertical-align: top;\n",
       "    }\n",
       "\n",
       "    .dataframe thead th {\n",
       "        text-align: right;\n",
       "    }\n",
       "</style>\n",
       "<table border=\"1\" class=\"dataframe\">\n",
       "  <thead>\n",
       "    <tr style=\"text-align: right;\">\n",
       "      <th></th>\n",
       "      <th>accession_number</th>\n",
       "      <th>filing_date</th>\n",
       "      <th>reportDate</th>\n",
       "      <th>acceptanceDateTime</th>\n",
       "      <th>act</th>\n",
       "      <th>form</th>\n",
       "      <th>fileNumber</th>\n",
       "      <th>items</th>\n",
       "      <th>size</th>\n",
       "      <th>isXBRL</th>\n",
       "      <th>isInlineXBRL</th>\n",
       "      <th>primaryDocument</th>\n",
       "      <th>primaryDocDescription</th>\n",
       "    </tr>\n",
       "  </thead>\n",
       "  <tbody>\n",
       "    <tr>\n",
       "      <th>0</th>\n",
       "      <td>0001407623-24-000043</td>\n",
       "      <td>2024-02-15</td>\n",
       "      <td>2023-12-31</td>\n",
       "      <td>2024-02-15T13:56:07.000Z</td>\n",
       "      <td>34</td>\n",
       "      <td>10-K</td>\n",
       "      <td>001-33749</td>\n",
       "      <td></td>\n",
       "      <td>13076012</td>\n",
       "      <td>1</td>\n",
       "      <td>1</td>\n",
       "      <td>roic-20231231.htm</td>\n",
       "      <td>10-K</td>\n",
       "    </tr>\n",
       "  </tbody>\n",
       "</table>\n",
       "</div>"
      ],
      "text/plain": [
       "       accession_number filing_date  reportDate        acceptanceDateTime act  \\\n",
       "0  0001407623-24-000043  2024-02-15  2023-12-31  2024-02-15T13:56:07.000Z  34   \n",
       "\n",
       "   form fileNumber items      size  isXBRL  isInlineXBRL    primaryDocument  \\\n",
       "0  10-K  001-33749        13076012       1             1  roic-20231231.htm   \n",
       "\n",
       "  primaryDocDescription  \n",
       "0                  10-K  "
      ]
     },
     "metadata": {},
     "output_type": "display_data"
    }
   ],
   "source": [
    "# sample tickers\n",
    "tickers = ['SOFI', 'ROIC']\n",
    "\n",
    "# get filings for each ticker\n",
    "for ticker in tickers:\n",
    "    print(f\"\\nProcessing {ticker}...\")\n",
    "    company = Company(ticker)\n",
    "    \n",
    "    # Get all filings and filter by date for 2024\n",
    "    filings = company.get_filings(form='10-K').filter(date=\"2024-01-01:\")\n",
    "    \n",
    "    # Display the filings\n",
    "    print(filings)\n",
    "    \n",
    "    # Convert to pandas DataFrame if needed\n",
    "    df = filings.to_pandas()\n",
    "    print(\"\\nFilings DataFrame:\")\n",
    "    display(df)"
   ]
  }
 ],
 "metadata": {
  "kernelspec": {
   "display_name": "ms_venv",
   "language": "python",
   "name": "python3"
  },
  "language_info": {
   "codemirror_mode": {
    "name": "ipython",
    "version": 3
   },
   "file_extension": ".py",
   "mimetype": "text/x-python",
   "name": "python",
   "nbconvert_exporter": "python",
   "pygments_lexer": "ipython3",
   "version": "3.11.1"
  }
 },
 "nbformat": 4,
 "nbformat_minor": 2
}
